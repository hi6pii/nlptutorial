{
 "cells": [
  {
   "cell_type": "markdown",
   "metadata": {},
   "source": [
    "# 確率的言語モデル\n",
    "\n",
    "- 言語モデルが各文(W)に確率を与える  \n",
    "W = speech recognition system\n",
    "- 変数で以下のようにあらわす  \n",
    "P(|W|=3, w1=\"speech\", w2=\"recognition\", w3=\"system\")\n",
    "- 文の確率がほしい\n",
    "\n",
    "P(|W|=3, w1=\"speech\", w2=\"recognition\", w3=\"system\") =   \n",
    " P(w1=\"speech\"|w_0=\"<\\s>\")  \n",
    " x P(w2=\"recognition\" | w_0=\"<\\s>\", w_1=\"speech\")  \n",
    " x P(w3=\"system\" | w_0=\"<\\s>\", w_1=\"speech\", w_2=\"recognition\")  \n",
    " x P(w4=\"<\\s>\" | w_0=\"<\\s>\", w_1=\"speech\", w_2=\"recognition\", w3=\"system\")"
   ]
  },
  {
   "cell_type": "markdown",
   "metadata": {},
   "source": [
    "\n",
    "- 確率の漸次的(ぜんじ、しだいに）な計算：総乗\n",
    "$$ P(W)= \\prod_{ i =1 }^{ |W|+1 } P(w_i∣w_0…w_{i−1}) $$\n",
    "- 条件付き確率の決め方は？\n",
    "$$ P(w_i|w_0 ... w_{i-1}) $$  \n",
    "- 最尤推定: コーパスの単語列を数え上げて割ることで計算\n",
    "$$ P(w_i|w_0 ... w_{i-1}) = \\frac{c(w_1 ... w_i)}{c_(w_1 ... w_{i-1})} $$"
   ]
  },
  {
   "cell_type": "markdown",
   "metadata": {},
   "source": [
    "###  1-gram モデル\n",
    "- 履歴を用いないことで低頻度の現象を減らす\n",
    "  - approx(約), tilde(中央値)\n",
    "$$ P(w_i|w_0 ... w_{i-1}) \\approx P(wi) = \\frac{c(w_i)}{\\sum_{ \\tilde{w} }^{  } c(\\tilde{w})} $$\n",
    "- 未知語への対応\n",
    "  - 多くの場合、無視される\n",
    "  - 少しの確率を未知語に割り当てる  $ \\lambda_{unk} = 1- \\lambda_1 $\n",
    "  - 未知語を含む語彙数 N  例えば$ N= 10^6 $\n",
    "  $ P(w_i) = \\lambda_1P_{ML}(w_i)+(1-\\lambda_1)\\frac{1}{N} $"
   ]
  },
  {
   "cell_type": "markdown",
   "metadata": {},
   "source": [
    "### モデルの評価\n",
    "- 尤度（ゆうど）: モデルMが与えられた時の観測されたデータの確率\n",
    "$$ P(W_{test} | M) = \\prod_{w \\in w_{test}}^{ } P(w|M) $$\n",
    "- 対数尤度: 尤度を対数にすることで桁あふれを解決\n",
    "$$ \\log P(W_{test} | M) = \\prod_{w \\in w_{test}}^{ } \\log P(w|M) $$\n",
    "- エントロピー H: 負の底2の対数尤度を単語数で割った値\n",
    "$$ H(W_{test} | M) = \\frac {1}{|W_{test}|} \\prod_{w \\in w_{test}}^{ } \\ -log_2 P(w|M) $$\n",
    "- パープレキシティ: 2のエントロピー乗\n",
    "$$ PPL = 2^H $$\n",
    "- カバレージ：評価データに現れた単語（n-gram)の中でモデルに含まれている割合"
   ]
  },
  {
   "cell_type": "code",
   "execution_count": null,
   "metadata": {
    "collapsed": true
   },
   "outputs": [],
   "source": []
  }
 ],
 "metadata": {
  "kernelspec": {
   "display_name": "Python 3",
   "language": "python",
   "name": "python3"
  },
  "language_info": {
   "codemirror_mode": {
    "name": "ipython",
    "version": 3
   },
   "file_extension": ".py",
   "mimetype": "text/x-python",
   "name": "python",
   "nbconvert_exporter": "python",
   "pygments_lexer": "ipython3",
   "version": "3.5.2"
  }
 },
 "nbformat": 4,
 "nbformat_minor": 0
}
